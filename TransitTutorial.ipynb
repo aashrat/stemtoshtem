{
  "nbformat": 4,
  "nbformat_minor": 0,
  "metadata": {
    "colab": {
      "name": "TransitTutorial.ipynb",
      "provenance": [],
      "authorship_tag": "ABX9TyOZreZMrgH/jg1SQ8AIGL3V",
      "include_colab_link": true
    },
    "kernelspec": {
      "name": "python3",
      "display_name": "Python 3"
    }
  },
  "cells": [
    {
      "cell_type": "markdown",
      "metadata": {
        "id": "view-in-github",
        "colab_type": "text"
      },
      "source": [
        "<a href=\"https://colab.research.google.com/github/aashrat/stemtoshtem/blob/master/TransitTutorial.ipynb\" target=\"_parent\"><img src=\"https://colab.research.google.com/assets/colab-badge.svg\" alt=\"Open In Colab\"/></a>"
      ]
    },
    {
      "cell_type": "markdown",
      "metadata": {
        "id": "Vy9SxTSoojo0",
        "colab_type": "text"
      },
      "source": [
        "We'll need to install the kplr package (documentation found here: http://dfm.io/kplr/). The lightkurve package is more commonly used (https://docs.lightkurve.org/tutorials/02-recover-a-planet.html), but it is less compatible with google colab."
      ]
    },
    {
      "cell_type": "code",
      "metadata": {
        "id": "Cbkf1RcEoCOO",
        "colab_type": "code",
        "colab": {
          "base_uri": "https://localhost:8080/",
          "height": 51
        },
        "outputId": "ffa0cac7-fe4f-4b91-f906-3d230c2df28f"
      },
      "source": [
        "pip install kplr"
      ],
      "execution_count": 15,
      "outputs": [
        {
          "output_type": "stream",
          "text": [
            "Requirement already satisfied: kplr in /usr/local/lib/python3.6/dist-packages (0.2.2)\n",
            "Requirement already satisfied: six in /usr/local/lib/python3.6/dist-packages (from kplr) (1.12.0)\n"
          ],
          "name": "stdout"
        }
      ]
    },
    {
      "cell_type": "markdown",
      "metadata": {
        "id": "PJeUqfIQrH6O",
        "colab_type": "text"
      },
      "source": [
        "### Exoplanets\n",
        "To find an exoplanet, I'd first recommend going to this page: https://en.wikipedia.org/wiki/List_of_exoplanets_discovered_using_the_Kepler_space_telescope and finding an exoplanet with a Wikipedia page. I'd recommend choosing a planet with only a b-component, but if you are interested in finding a multi-planet system, message me and I can help! Once you find your planet, go to https://exoplanetarchive.ipac.caltech.edu/cgi-bin/TblView/nph-tblView?app=ExoTbls&config=cumulative and type in the planet name under Kepler name. The column next to Kepler name will give you the planet's KOI name, which you will need later. Everything after the K and the 0's is the KOI number (ex. if the table says KOO752.01, the number is 752.01).\n"
      ]
    },
    {
      "cell_type": "markdown",
      "metadata": {
        "id": "cPl_g8lfpkck",
        "colab_type": "text"
      },
      "source": [
        "### Kepler 5b\n",
        "Kepler 5b (https://en.wikipedia.org/wiki/Kepler-5b) is one of the first 5 confirmed exoplanets discovered by the Kepler mission. The discovery of Kepler 5b was announced in 2010. It is a hot Jupiter orbiting a subgiant star. (https://en.wikipedia.org/wiki/Kepler-5)\n"
      ]
    },
    {
      "cell_type": "code",
      "metadata": {
        "id": "K--ufhZjoc-J",
        "colab_type": "code",
        "colab": {}
      },
      "source": [
        "#importing necessary packages\n",
        "#importing packages to handle math\n",
        "import numpy as np\n",
        "import math\n",
        "\n",
        "#importing packages to store data in tables\n",
        "import astropy\n",
        "from astropy.table import Table\n",
        "import pandas as pd\n",
        "\n",
        "#importing plotting packages\n",
        "import matplotlib\n",
        "import matplotlib.pyplot as plt\n",
        "#plotting inline\n",
        "%matplotlib inline\n",
        "\n",
        "#importing kplr package\n",
        "import kplr"
      ],
      "execution_count": 16,
      "outputs": []
    },
    {
      "cell_type": "markdown",
      "metadata": {
        "id": "QXC4B8o6q6tK",
        "colab_type": "text"
      },
      "source": [
        "In the cell below, *only* change the koi number (here it is 18.01) and keep everything else the same.\n"
      ]
    },
    {
      "cell_type": "code",
      "metadata": {
        "id": "t5ma2_cdpnBz",
        "colab_type": "code",
        "colab": {}
      },
      "source": [
        "#reading in kepler light curve\n",
        "client = kplr.API()\n",
        "koi = client.koi(18.01) # Find the target KOI, using your KOI number\n",
        "lcs = koi.get_light_curves(short_cadence=False) # Get list of datasets.\n",
        "f = lcs[0].open() # open the first light-curve dataset\n",
        "hdu_data = f[1].data\n",
        "time = hdu_data[\"time\"] # get the time of each observation\n",
        "flux = hdu_data[\"sap_flux\"] # get the flux\n",
        "flux_err = hdu_data[\"sap_flux_err\"] # get the error in the flux\n",
        "f.close()"
      ],
      "execution_count": 17,
      "outputs": []
    },
    {
      "cell_type": "code",
      "metadata": {
        "id": "eKvWRzDGqBLl",
        "colab_type": "code",
        "colab": {
          "base_uri": "https://localhost:8080/",
          "height": 284
        },
        "outputId": "92a86581-1feb-4342-ffc9-89d70a901b91"
      },
      "source": [
        "#plotting the lightcurve, this is what part of a light curve looks like!\n",
        "plt.errorbar(time, flux,yerr=flux_err,fmt='.',linewidth=1,c='k',ecolor='b')\n",
        "\n",
        "#label axes\n",
        "plt.xlabel(\"time  [(UTC) - 2454833]\",size=15)\n",
        "plt.ylabel(\"flux [counts]\",size=15)\n",
        "plt.savefig('lightcurveraw.png')"
      ],
      "execution_count": 18,
      "outputs": [
        {
          "output_type": "display_data",
          "data": {
            "image/png": "[encoded data removed]",
            "text/plain": [
              "<Figure size 432x288 with 1 Axes>"
            ]
          },
          "metadata": {
            "tags": [],
            "needs_background": "light"
          }
        }
      ]
    },
    {
      "cell_type": "markdown",
      "metadata": {
        "id": "DHRx1Mf-sg1X",
        "colab_type": "text"
      },
      "source": [
        "In the cell below, you will need to change time values. There are more sophisticated methods, but we will be using visual inspection to detect transits. In the above plot, it is easy to see that the flux dips 3 times (between 122 and 124, between 126 and 128, and at around 130). Let's focus on the first transit."
      ]
    },
    {
      "cell_type": "code",
      "metadata": {
        "id": "3KVwKpagpiaI",
        "colab_type": "code",
        "colab": {
          "base_uri": "https://localhost:8080/",
          "height": 284
        },
        "outputId": "f782a648-a64c-4fe2-b064-9cdd9c8e9eb6"
      },
      "source": [
        "#zooming in on first transit by eye\n",
        "plt.errorbar(time,flux,yerr=flux_err,fmt='.',linewidth=1,c='k',ecolor='b')\n",
        "#change the xlim values to the time where you approximately think the transit is. play around with this\n",
        "plt.xlim(122.6,123.2)\n",
        "\n",
        "#labeling axes\n",
        "plt.xlabel(\"time [days]\",size=15)\n",
        "plt.ylabel(\"relative flux\", size=15)\n",
        "\n",
        "plt.show()"
      ],
      "execution_count": 24,
      "outputs": [
        {
          "output_type": "display_data",
          "data": {
            "image/png": "[encoded data removed]",
            "text/plain": [
              "<Figure size 432x288 with 1 Axes>"
            ]
          },
          "metadata": {
            "tags": [],
            "needs_background": "light"
          }
        }
      ]
    },
    {
      "cell_type": "markdown",
      "metadata": {
        "id": "-HOtOlrntXK2",
        "colab_type": "text"
      },
      "source": [
        "We also want to normalize the flux. What this means is that the highest flux value we have is 1. There are more sophisticated values of doing this as well, but for simplicity, let's divide both the flux and the flux error by the maximum flux value we can see in the above plot. For me, this is about 60400. Change this value for your highest flux"
      ]
    },
    {
      "cell_type": "code",
      "metadata": {
        "id": "ONKMQ-PttuUG",
        "colab_type": "code",
        "colab": {}
      },
      "source": [
        "normflux = flux/60400\n",
        "normerr = flux_err/60400"
      ],
      "execution_count": 29,
      "outputs": []
    },
    {
      "cell_type": "code",
      "metadata": {
        "id": "H8CLC3hjt0gr",
        "colab_type": "code",
        "colab": {
          "base_uri": "https://localhost:8080/",
          "height": 284
        },
        "outputId": "333dc3a4-24b5-47db-f696-e0ef340f03ea"
      },
      "source": [
        "#plot the normalized flux and error\n",
        "plt.errorbar(time,normflux,yerr=normerr,fmt='.',linewidth=1,c='k',ecolor='b')\n",
        "#change the xlim values to the time where you approximately think the transit is. play around with this\n",
        "plt.xlim(122.6,123.2)\n",
        "\n",
        "#labeling axes\n",
        "plt.xlabel(\"time [days]\",size=15)\n",
        "plt.ylabel(\"relative flux\", size=15)\n",
        "\n",
        "plt.show()"
      ],
      "execution_count": 30,
      "outputs": [
        {
          "output_type": "display_data",
          "data": {
            "image/png": "[encoded data removed]",
            "text/plain": [
              "<Figure size 432x288 with 1 Axes>"
            ]
          },
          "metadata": {
            "tags": [],
            "needs_background": "light"
          }
        }
      ]
    },
    {
      "cell_type": "markdown",
      "metadata": {
        "id": "brpcvUebtC3v",
        "colab_type": "text"
      },
      "source": [
        "Now we need to define some variables based on our visual inspection and guessing!"
      ]
    },
    {
      "cell_type": "code",
      "metadata": {
        "id": "AldStM2Zs3R5",
        "colab_type": "code",
        "colab": {}
      },
      "source": [
        "#t0 is the middle time of the transit, where the flux is at its lowest point, \n",
        "#look at your own graph to guess this value\n",
        "t0 = 122.9\n",
        "\n",
        "#tau is half of the duration of the transit. Visually, it looks like the transit is lasting\n",
        "#from between 122.8 to 123.0. So the duration is 0.2 and half of that is 0.1\n",
        "tau = 0.1\n",
        "\n",
        "#z is essentially our time normalized, don't change anything here\n",
        "z = (time - t0)/tau\n",
        "\n",
        "#this value is a pure guess. p actually refers to the ratio of the planet's radius divided\n",
        "#by the star's radius, so if you want to calculate that from your background research,\n",
        "#that will give you a better estimate. You can also just play around with this until you\n",
        "#have a good fit\n",
        "p = 0.078"
      ],
      "execution_count": 35,
      "outputs": []
    },
    {
      "cell_type": "markdown",
      "metadata": {
        "id": "PJ9WdgVcvixH",
        "colab_type": "text"
      },
      "source": [
        "The next few lines of code are functions to fit the transit with mathematical formulas. These formulas are shown below.\n",
        "First we have the intensity function:\n",
        "$$I(r) = 1 - (1 - \\mu ^{1/2})$$\n",
        "$$\\mu = (1-r^2)^{1/2}$$\n",
        "\n",
        "$$F(p,z) = \\frac{\\int_{0}^1I(r)[1-\\delta(p,r,z)]2rdr}{\\int_{0}^1I(r)2rdr}$$\n",
        "$$\\delta(p,r,z) = \n",
        "\\begin{cases}\n",
        "0 & r \\geq z + p \\\\\n",
        "1 & r + z \\leq p \\\\\n",
        "\\pi^{-1}arccos[(z^2-p^2+r^2)/(2zr)] & \\text{otherwise}\n",
        "\\end{cases}$$\n",
        "Don't change any of these!"
      ]
    },
    {
      "cell_type": "code",
      "metadata": {
        "id": "JnKBmpFYwKCT",
        "colab_type": "code",
        "colab": {}
      },
      "source": [
        "#define intensity function\n",
        "def intensity(r):\n",
        "    mu = (1 - r**2)**0.5\n",
        "    return mu**0.5\n",
        "\n",
        "#import integration\n",
        "from scipy import integrate\n",
        "\n",
        "#define delta function\n",
        "def delta(p,r,z):\n",
        "    abs(z)\n",
        "    if r >= z + p or r <= z - p:\n",
        "        return 0\n",
        "    if r + z <= p:\n",
        "        return 1\n",
        "    d = math.acos((z**2 - p**2 + r**2)/(2*z*r))/(math.pi)\n",
        "    return d\n",
        "\n",
        "#define integrands\n",
        "def numerator(r, p, z):\n",
        "    return intensity(r)*(1 - delta(p,r,z))*2*r\n",
        "def denominator(r, p, z):\n",
        "    return intensity(r)*2*r\n",
        "\n",
        "#define limbdarkening function\n",
        "def limbdarkening(p, z):\n",
        "    top = integrate.quad(numerator,0,1,args=(p,z))[0]\n",
        "    bottom = integrate.quad(denominator,0,1,args=(p,z))[0] \n",
        "    return top/bottom\n",
        "\n",
        "#define model\n",
        "def model(p,tau,t0):\n",
        "    z = (time - t0)/tau\n",
        "    modelLD = []\n",
        "    for Z in z:\n",
        "        modelLD.append(limbdarkening(p,abs(Z)))\n",
        "    return modelLD"
      ],
      "execution_count": 33,
      "outputs": []
    },
    {
      "cell_type": "markdown",
      "metadata": {
        "id": "DRtKEuF8x4LM",
        "colab_type": "text"
      },
      "source": [
        "Below, you will plot your flux values and compare this to the model. Don't change any lines of code below, but as you plot, go back to the cell with the variables p, tau, and t0 and change these values so the red line fits the points as best as possible. \n",
        "\n",
        "**If you're interested in a more robust technique, let me know and I can show you how to implement statistical tests to see how good of a fit this is. For now, don't worry about perfect accuracy."
      ]
    },
    {
      "cell_type": "code",
      "metadata": {
        "id": "3uuprYPrxnI_",
        "colab_type": "code",
        "colab": {
          "base_uri": "https://localhost:8080/",
          "height": 301
        },
        "outputId": "4a0bc9d5-36db-453c-e11d-43aa4aa6eab5"
      },
      "source": [
        "#plot actual flux values\n",
        "plt.errorbar(z, normflux,normerr,fmt='.',linewidth=1,c='k',ecolor='b')\n",
        "#focus in specifically on transit\n",
        "plt.xlim(-4,4)\n",
        "\n",
        "#plot model with limb darkening\n",
        "plt.plot(z, model(p,tau,t0), c='r', lw=1)\n",
        "\n",
        "#label axes\n",
        "plt.xlabel(\"normalized time\",size=15)\n",
        "plt.ylabel(\"normalized flux\", size=15)\n",
        "#plt.savefig(\"transit1.png\")"
      ],
      "execution_count": 36,
      "outputs": [
        {
          "output_type": "execute_result",
          "data": {
            "text/plain": [
              "Text(0, 0.5, 'normalized flux')"
            ]
          },
          "metadata": {
            "tags": []
          },
          "execution_count": 36
        },
        {
          "output_type": "display_data",
          "data": {
            "image/png": "[encoded data removed]",
            "text/plain": [
              "<Figure size 432x288 with 1 Axes>"
            ]
          },
          "metadata": {
            "tags": [],
            "needs_background": "light"
          }
        }
      ]
    },
    {
      "cell_type": "markdown",
      "metadata": {
        "id": "SDgdZjLEyaO-",
        "colab_type": "text"
      },
      "source": [
        "Hooray this looks like a great fit to me! Now we are going to take our final p-value and try to calculate the size of the planet. We know that its host star as a radius of 1.793 $R_\\odot$, which is 1.793 solar radiuses. The sun is 696,340 km long. \n",
        "\n",
        "**Don't change the sunradius value, but change 1.793 to however many solar radiuses your planet's host star is."
      ]
    },
    {
      "cell_type": "code",
      "metadata": {
        "id": "cYwOCBRKy5bR",
        "colab_type": "code",
        "colab": {}
      },
      "source": [
        "sunradius = 696340\n",
        "#change the value below\n",
        "hoststar = 1.793 * sunradius"
      ],
      "execution_count": 37,
      "outputs": []
    },
    {
      "cell_type": "markdown",
      "metadata": {
        "id": "xhjcyfbXzMxq",
        "colab_type": "text"
      },
      "source": [
        "Now, let's use our p value to calculate the size of the planet and convert this to earth radiuses ($R_\\oplus$)"
      ]
    },
    {
      "cell_type": "code",
      "metadata": {
        "id": "8SZjrx5Izft6",
        "colab_type": "code",
        "colab": {
          "base_uri": "https://localhost:8080/",
          "height": 34
        },
        "outputId": "6c78c9f8-bf01-4ee4-fa5d-a3c6c41ffe1f"
      },
      "source": [
        "exoplanetradius = hoststar * p\n",
        "earthradius = 6378\n",
        "exoplanetradius = exoplanetradius/earthradius\n",
        "print(exoplanetradius)"
      ],
      "execution_count": 38,
      "outputs": [
        {
          "output_type": "stream",
          "text": [
            "15.269039567262462\n"
          ],
          "name": "stdout"
        }
      ]
    },
    {
      "cell_type": "markdown",
      "metadata": {
        "id": "eE6pMPiizyhF",
        "colab_type": "text"
      },
      "source": [
        "We calculated that the exoplanet is 15 times bigger than earth and has a radius of 15.27 $R_\\oplus$. This is super close to the true value of 15.55 $R_\\oplus$, which we can see on the Wikipedia page!!"
      ]
    },
    {
      "cell_type": "markdown",
      "metadata": {
        "id": "dIFGvdFw0FAL",
        "colab_type": "text"
      },
      "source": [
        "## Assignment\n",
        "When you are finished, take one or more of the graphs you generated as well as the background information you found to create an image/video/powerpoint of the planet you found and your research methods. Put your final project in the google drive."
      ]
    },
    {
      "cell_type": "code",
      "metadata": {
        "id": "KJ1VQNM20Vup",
        "colab_type": "code",
        "colab": {}
      },
      "source": [
        ""
      ],
      "execution_count": null,
      "outputs": []
    }
  ]
}